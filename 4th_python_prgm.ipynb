{
  "nbformat": 4,
  "nbformat_minor": 0,
  "metadata": {
    "colab": {
      "provenance": [],
      "authorship_tag": "ABX9TyPzptuwqpoBcNqKn6/vauHX",
      "include_colab_link": true
    },
    "kernelspec": {
      "name": "python3",
      "display_name": "Python 3"
    },
    "language_info": {
      "name": "python"
    }
  },
  "cells": [
    {
      "cell_type": "markdown",
      "metadata": {
        "id": "view-in-github",
        "colab_type": "text"
      },
      "source": [
        "<a href=\"https://colab.research.google.com/github/akhilnchandran/Mst_Python_march2024/blob/python%2Ffirst_prgm/4th_python_prgm.ipynb\" target=\"_parent\"><img src=\"https://colab.research.google.com/assets/colab-badge.svg\" alt=\"Open In Colab\"/></a>"
      ]
    },
    {
      "cell_type": "code",
      "execution_count": null,
      "metadata": {
        "id": "7_9U451dhFrQ"
      },
      "outputs": [],
      "source": [
        "import random\n",
        "\n",
        "secretNumber = random.randint(1, 10)\n",
        "\n",
        "while True:\n",
        "    guess = int(input(\"Enter a number between 1 and 10: \"))\n",
        "\n",
        "    if guess == secretNumber:\n",
        "        print(\"Congratulations! You guessed the number correctly!\")\n",
        "        break\n",
        "    elif guess < secretNumber:\n",
        "        print(\"Too low! Try again.\")\n",
        "    else:\n",
        "        print(\"Too high! Try again.\")\n"
      ]
    },
    {
      "cell_type": "code",
      "source": [
        "L = int(input(\"Enter minimum dimension (L): \"))\n",
        "N = int(input(\"Enter the number of photos: \"))\n",
        "\n",
        "for _ in range(N):\n",
        "    W, H = map(int, input(\"Enter width and height of the photo: \").split())\n",
        "\n",
        "    if W < L or H < L:\n",
        "        print(\"UPLOAD ANOTHER\")\n",
        "    elif W == H:\n",
        "        print(\"ACCEPTED\")\n",
        "    else:\n",
        "        print(\"CROP IT\")\n"
      ],
      "metadata": {
        "id": "kRKQaHuTiZxc"
      },
      "execution_count": null,
      "outputs": []
    }
  ]
}