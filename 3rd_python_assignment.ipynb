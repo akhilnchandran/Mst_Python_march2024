{
  "nbformat": 4,
  "nbformat_minor": 0,
  "metadata": {
    "colab": {
      "provenance": [],
      "authorship_tag": "ABX9TyMveDyjadfL6p8m0lQ5ffv0",
      "include_colab_link": true
    },
    "kernelspec": {
      "name": "python3",
      "display_name": "Python 3"
    },
    "language_info": {
      "name": "python"
    }
  },
  "cells": [
    {
      "cell_type": "markdown",
      "metadata": {
        "id": "view-in-github",
        "colab_type": "text"
      },
      "source": [
        "<a href=\"https://colab.research.google.com/github/akhilnchandran/Mst_Python_march2024/blob/python%2Ffirst_prgm/3rd_python_assignment.ipynb\" target=\"_parent\"><img src=\"https://colab.research.google.com/assets/colab-badge.svg\" alt=\"Open In Colab\"/></a>"
      ]
    },
    {
      "cell_type": "code",
      "execution_count": 1,
      "metadata": {
        "colab": {
          "base_uri": "https://localhost:8080/"
        },
        "id": "Jrxs8usAfXbP",
        "outputId": "1bad5935-962c-4bf4-d12b-316fc5a898f4"
      },
      "outputs": [
        {
          "output_type": "stream",
          "name": "stdout",
          "text": [
            "Enter a name: john\n",
            "Name not found.\n"
          ]
        }
      ],
      "source": [
        "D = {'John': [25, 32, 43], 'Peter': [87, 55, 96], 'Ram': [58, 55, 43], 'Meena': [63, 79, 85]}\n",
        "\n",
        "name = input(\"Enter a name: \")\n",
        "\n",
        "if name in D:\n",
        "    D[name] = [88, 77, 99]\n",
        "    print(D)\n",
        "else:\n",
        "    print(\"Name not found.\")\n"
      ]
    },
    {
      "cell_type": "code",
      "source": [
        "age = int(input(\"Enter your age: \"))\n",
        "gender = input(\"Enter your gender (male/female): \")\n",
        "\n",
        "ticket_price = 0\n",
        "\n",
        "if age < 5 or age > 60:\n",
        "    ticket_price = 0\n",
        "elif age >= 5 and age <= 12:\n",
        "    ticket_price = 10\n",
        "else:\n",
        "    ticket_price = 50\n",
        "\n",
        "if gender.lower() == 'female':\n",
        "    ticket_price *= 0.5\n",
        "\n",
        "print(\"Ticket price:\", ticket_price)\n"
      ],
      "metadata": {
        "colab": {
          "base_uri": "https://localhost:8080/"
        },
        "id": "6Iy67-ElgVOJ",
        "outputId": "30fb1c72-bc5f-4451-f70d-aa5f21262b76"
      },
      "execution_count": 2,
      "outputs": [
        {
          "output_type": "stream",
          "name": "stdout",
          "text": [
            "Enter your age: 16\n",
            "Enter your gender (male/female): male\n",
            "Ticket price: 50\n"
          ]
        }
      ]
    },
    {
      "cell_type": "code",
      "source": [
        "list = [2,4,5,32,6,255,5,42]\n",
        "list.sort()\n",
        "print(\"Now it is sorted:\", list)\n",
        "print(list[-2])\n"
      ],
      "metadata": {
        "colab": {
          "base_uri": "https://localhost:8080/"
        },
        "id": "598BT0dHnvM9",
        "outputId": "f2767e86-fc06-4d07-92fd-3bc9ac4220ad"
      },
      "execution_count": 7,
      "outputs": [
        {
          "output_type": "stream",
          "name": "stdout",
          "text": [
            "Now it is sorted: [2, 4, 5, 5, 6, 32, 42, 255]\n",
            "42\n"
          ]
        }
      ]
    }
  ]
}