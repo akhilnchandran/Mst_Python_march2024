{
  "nbformat": 4,
  "nbformat_minor": 0,
  "metadata": {
    "colab": {
      "provenance": [],
      "authorship_tag": "ABX9TyP3E03l+w+vklmZ7+oejKq9",
      "include_colab_link": true
    },
    "kernelspec": {
      "name": "python3",
      "display_name": "Python 3"
    },
    "language_info": {
      "name": "python"
    }
  },
  "cells": [
    {
      "cell_type": "markdown",
      "metadata": {
        "id": "view-in-github",
        "colab_type": "text"
      },
      "source": [
        "<a href=\"https://colab.research.google.com/github/akhilnchandran/Mst_Python_march2024/blob/python%2Ffirst_prgm/5thprgm.ipynb\" target=\"_parent\"><img src=\"https://colab.research.google.com/assets/colab-badge.svg\" alt=\"Open In Colab\"/></a>"
      ]
    },
    {
      "cell_type": "code",
      "execution_count": 1,
      "metadata": {
        "colab": {
          "base_uri": "https://localhost:8080/"
        },
        "id": "HaXOQFvCzGgU",
        "outputId": "05c4b54d-aa27-469d-86cf-660858882067"
      },
      "outputs": [
        {
          "output_type": "stream",
          "name": "stdout",
          "text": [
            "33\n"
          ]
        }
      ],
      "source": [
        "def middle(lst):\n",
        "    lst.sort()\n",
        "    return lst[len(lst) // 2]\n",
        "\n",
        "list1 = [22, 33, 88]\n",
        "print(middle(list1))\n"
      ]
    },
    {
      "cell_type": "code",
      "source": [
        "def add(x, y):\n",
        "    return x + y\n",
        "\n",
        "def subtract(x, y):\n",
        "    return x - y\n",
        "\n",
        "def multiply(x, y):\n",
        "    return x * y\n",
        "\n",
        "def divide(x, y):\n",
        "    if y == 0:\n",
        "        return \"Error: Division by zero!\"\n",
        "    else:\n",
        "        return x / y\n",
        "\n",
        "def calculator():\n",
        "    print(\"Welcome to the calculator!\")\n",
        "    print(\"Select operation:\")\n",
        "    print(\"1. Add\")\n",
        "    print(\"2. Subtract\")\n",
        "    print(\"3. Multiply\")\n",
        "    print(\"4. Divide\")\n",
        "\n",
        "    choice = input(\"Enter choice (1/2/3/4): \")\n",
        "\n",
        "    num1 = float(input(\"Enter first number: \"))\n",
        "    num2 = float(input(\"Enter second number: \"))\n",
        "\n",
        "    if choice == '1':\n",
        "        print(\"Result:\", add(num1, num2))\n",
        "    elif choice == '2':\n",
        "        print(\"Result:\", subtract(num1, num2))\n",
        "    elif choice == '3':\n",
        "        print(\"Result:\", multiply(num1, num2))\n",
        "    elif choice == '4':\n",
        "        print(\"Result:\", divide(num1, num2))\n",
        "    else:\n",
        "        print(\"Invalid input\")\n",
        "\n",
        "calculator()\n"
      ],
      "metadata": {
        "colab": {
          "base_uri": "https://localhost:8080/"
        },
        "id": "PFtdcRlfz_Oz",
        "outputId": "5f3c5821-a5b8-4e0c-f1a0-9d39793fdea8"
      },
      "execution_count": 2,
      "outputs": [
        {
          "output_type": "stream",
          "name": "stdout",
          "text": [
            "Welcome to the calculator!\n",
            "Select operation:\n",
            "1. Add\n",
            "2. Subtract\n",
            "3. Multiply\n",
            "4. Divide\n",
            "Enter choice (1/2/3/4): 1\n",
            "Enter first number: 85\n",
            "Enter second number: 96\n",
            "Result: 181.0\n"
          ]
        }
      ]
    },
    {
      "cell_type": "code",
      "source": [
        "import math\n",
        "\n",
        "def calculate_hypotenuse(side1, side2):\n",
        "\n",
        "    hypotenuse = math.sqrt(side1 ** 2 + side2 ** 2)\n",
        "    return hypotenuse\n",
        "\n",
        "\n",
        "side1 = 3\n",
        "side2 = 4\n",
        "hypotenuse = calculate_hypotenuse(side1, side2)\n",
        "print(\"The hypotenuse of the triangle with sides\", side1, \"and\", side2, \"is:\", hypotenuse)"
      ],
      "metadata": {
        "colab": {
          "base_uri": "https://localhost:8080/"
        },
        "id": "PJAKyelq0MJ2",
        "outputId": "b9aadf98-d339-4245-c17a-313aed70773a"
      },
      "execution_count": 3,
      "outputs": [
        {
          "output_type": "stream",
          "name": "stdout",
          "text": [
            "The hypotenuse of the triangle with sides 3 and 4 is: 5.0\n"
          ]
        }
      ]
    },
    {
      "cell_type": "code",
      "source": [
        "class Rectangle:\n",
        "    def __init__(self, length, width):\n",
        "        self.length = length\n",
        "        self.width = width\n",
        "\n",
        "    def perimeter(self):\n",
        "        return 2 * (self.length + self.width)\n",
        "\n",
        "    def area(self):\n",
        "        return self.length * self.width\n",
        "\n",
        "    def display(self):\n",
        "        print(\"Length:\", self.length)\n",
        "        print(\"Width:\", self.width)\n",
        "        print(\"Perimeter:\", self.perimeter())\n",
        "        print(\"Area:\", self.area())\n",
        "\n",
        "\n",
        "rect = Rectangle(5, 3)\n",
        "rect.display()\n"
      ],
      "metadata": {
        "colab": {
          "base_uri": "https://localhost:8080/"
        },
        "id": "aRozBhBu1_PG",
        "outputId": "a0a3cd18-d7c9-4405-e8ff-4d459d5939ca"
      },
      "execution_count": 4,
      "outputs": [
        {
          "output_type": "stream",
          "name": "stdout",
          "text": [
            "Length: 5\n",
            "Width: 3\n",
            "Perimeter: 16\n",
            "Area: 15\n"
          ]
        }
      ]
    },
    {
      "cell_type": "code",
      "source": [
        "class BankAccount:\n",
        "    def __init__(self, accountNumber, name, balance):\n",
        "        self.accountNumber = accountNumber\n",
        "        self.name = name\n",
        "        self.balance = balance\n",
        "\n",
        "    def deposit(self, amount):\n",
        "        self.balance += amount\n",
        "        print(\"Deposit of\", amount, \"successful.\")\n",
        "\n",
        "    def withdrawal(self, amount):\n",
        "        if self.balance >= amount:\n",
        "            self.balance -= amount\n",
        "            print(\"Withdrawal of\", amount, \"successful.\")\n",
        "        else:\n",
        "            print(\"Insufficient funds for withdrawal.\")\n",
        "\n",
        "    def bank_fees(self):\n",
        "        fees = self.balance * 0.05\n",
        "        self.balance -= fees\n",
        "        print(\"Bank fees applied. Current balance after fees:\", self.balance)\n",
        "\n",
        "    def display(self):\n",
        "        print(\"Account Number:\", self.accountNumber)\n",
        "        print(\"Account Holder Name:\", self.name)\n",
        "        print(\"Balance:\", self.balance)\n",
        "\n",
        "\n",
        "account1 = BankAccount(123456789, \"Akhil\", 1000)\n",
        "account1.deposit(500)\n",
        "account1.withdrawal(200)\n",
        "account1.bank_fees()\n",
        "account1.display()\n",
        "\n"
      ],
      "metadata": {
        "colab": {
          "base_uri": "https://localhost:8080/"
        },
        "id": "NLxs6I6G2Fmq",
        "outputId": "aae9c128-b20b-4fe0-e805-03bb65ee5666"
      },
      "execution_count": 6,
      "outputs": [
        {
          "output_type": "stream",
          "name": "stdout",
          "text": [
            "Deposit of 500 successful.\n",
            "Withdrawal of 200 successful.\n",
            "Bank fees applied. Current balance after fees: 1235.0\n",
            "Account Number: 123456789\n",
            "Account Holder Name: Akhil\n",
            "Balance: 1235.0\n"
          ]
        }
      ]
    }
  ]
}